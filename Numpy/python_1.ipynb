{
 "cells": [
  {
   "cell_type": "markdown",
   "metadata": {},
   "source": [
    "# Numpy[1]"
   ]
  },
  {
   "cell_type": "code",
   "execution_count": 1,
   "metadata": {},
   "outputs": [
    {
     "data": {
      "text/plain": [
       "'1.16.4'"
      ]
     },
     "execution_count": 1,
     "metadata": {},
     "output_type": "execute_result"
    }
   ],
   "source": [
    "import numpy as np\n",
    "np.__version__"
   ]
  },
  {
   "cell_type": "code",
   "execution_count": 2,
   "metadata": {},
   "outputs": [
    {
     "data": {
      "text/plain": [
       "array([1, 2, 3, 4, 5])"
      ]
     },
     "execution_count": 2,
     "metadata": {},
     "output_type": "execute_result"
    }
   ],
   "source": [
    "list=[1,2,3,4,5]#python list\n",
    "list2array=np.array(list)#list to numpy array conversion\n",
    "list2array"
   ]
  },
  {
   "cell_type": "code",
   "execution_count": 3,
   "metadata": {},
   "outputs": [
    {
     "data": {
      "text/plain": [
       "array([11, 12, 13, 14, 15])"
      ]
     },
     "execution_count": 3,
     "metadata": {},
     "output_type": "execute_result"
    }
   ],
   "source": [
    "list2array+10"
   ]
  },
  {
   "cell_type": "code",
   "execution_count": 4,
   "metadata": {},
   "outputs": [
    {
     "data": {
      "text/plain": [
       "array([10, 20, 30, 40, 50])"
      ]
     },
     "execution_count": 4,
     "metadata": {},
     "output_type": "execute_result"
    }
   ],
   "source": [
    "list2array*10"
   ]
  },
  {
   "cell_type": "code",
   "execution_count": 5,
   "metadata": {},
   "outputs": [
    {
     "data": {
      "text/plain": [
       "array([0.1, 0.2, 0.3, 0.4, 0.5])"
      ]
     },
     "execution_count": 5,
     "metadata": {},
     "output_type": "execute_result"
    }
   ],
   "source": [
    "list2array/10"
   ]
  },
  {
   "cell_type": "code",
   "execution_count": 6,
   "metadata": {},
   "outputs": [
    {
     "data": {
      "text/plain": [
       "(5,)"
      ]
     },
     "execution_count": 6,
     "metadata": {},
     "output_type": "execute_result"
    }
   ],
   "source": [
    "list2array.shape\n",
    "# (1-D)dimension of array"
   ]
  },
  {
   "cell_type": "code",
   "execution_count": 7,
   "metadata": {},
   "outputs": [
    {
     "data": {
      "text/plain": [
       "dtype('int32')"
      ]
     },
     "execution_count": 7,
     "metadata": {},
     "output_type": "execute_result"
    }
   ],
   "source": [
    "list2array.dtype\n",
    "# data type"
   ]
  },
  {
   "cell_type": "code",
   "execution_count": 8,
   "metadata": {
    "scrolled": true
   },
   "outputs": [
    {
     "name": "stdout",
     "output_type": "stream",
     "text": [
      "[INFO]Shape:(2, 3)\n",
      "\n",
      "[INFO]Datatype:int32\n"
     ]
    }
   ],
   "source": [
    "arr=np.array([[1,2,3],[4,5,6]])\n",
    "arr\n",
    "shape=arr.shape\n",
    "data=arr.dtype\n",
    "print('[INFO]Shape:{}\\n'.format(shape))\n",
    "print('[INFO]Datatype:{}'.format(data))"
   ]
  },
  {
   "cell_type": "markdown",
   "metadata": {},
   "source": [
    "# Numpy[2]"
   ]
  },
  {
   "cell_type": "code",
   "execution_count": 9,
   "metadata": {},
   "outputs": [
    {
     "data": {
      "text/plain": [
       "(4, 2, 3)"
      ]
     },
     "execution_count": 9,
     "metadata": {},
     "output_type": "execute_result"
    }
   ],
   "source": [
    "arr=np.array([\n",
    "    [\n",
    "        [1,2,3],\n",
    "        [4,5,6]\n",
    "    ],\n",
    "             [\n",
    "             [7,8,9],\n",
    "             [17,18,19]\n",
    "             ],\n",
    "    [\n",
    "        [2,4,6],\n",
    "        [1,3,7]\n",
    "    ],\n",
    "    [\n",
    "        [2,4,6],\n",
    "        [1,3,7]\n",
    "     ]\n",
    "\n",
    "])\n",
    "arr.shape"
   ]
  },
  {
   "cell_type": "code",
   "execution_count": 10,
   "metadata": {},
   "outputs": [
    {
     "name": "stdout",
     "output_type": "stream",
     "text": [
      "[[ 1  2]\n",
      " [ 4  6]\n",
      " [41 16]]\n",
      "(3, 2)\n"
     ]
    }
   ],
   "source": [
    "a=np.array([(1,2),(4,6),(41,16)])\n",
    "print(a)\n",
    "print(a.shape)"
   ]
  },
  {
   "cell_type": "code",
   "execution_count": 11,
   "metadata": {},
   "outputs": [
    {
     "data": {
      "text/plain": [
       "array([[ 1,  2],\n",
       "       [ 4,  6],\n",
       "       [41, 16]])"
      ]
     },
     "execution_count": 11,
     "metadata": {},
     "output_type": "execute_result"
    }
   ],
   "source": [
    "a.reshape(3,2)\n",
    "a"
   ]
  },
  {
   "cell_type": "code",
   "execution_count": 12,
   "metadata": {},
   "outputs": [
    {
     "data": {
      "text/plain": [
       "array([ 1,  2,  4,  6, 41, 16])"
      ]
     },
     "execution_count": 12,
     "metadata": {},
     "output_type": "execute_result"
    }
   ],
   "source": [
    "a.flatten()\n",
    "# converts n-dimensional arrray to 1_d"
   ]
  },
  {
   "cell_type": "code",
   "execution_count": 13,
   "metadata": {},
   "outputs": [
    {
     "data": {
      "text/plain": [
       "array([[0., 0.],\n",
       "       [0., 0.],\n",
       "       [0., 0.]])"
      ]
     },
     "execution_count": 13,
     "metadata": {},
     "output_type": "execute_result"
    }
   ],
   "source": [
    "zeros=np.zeros([3,2])\n",
    "zeros\n",
    "# creates matrix having all elements zeros"
   ]
  },
  {
   "cell_type": "code",
   "execution_count": 14,
   "metadata": {},
   "outputs": [
    {
     "data": {
      "text/plain": [
       "array([[1, 1, 1, 1],\n",
       "       [1, 1, 1, 1],\n",
       "       [1, 1, 1, 1],\n",
       "       [1, 1, 1, 1]], dtype=int16)"
      ]
     },
     "execution_count": 14,
     "metadata": {},
     "output_type": "execute_result"
    }
   ],
   "source": [
    "ones=np.ones([4,4],dtype='int16')\n",
    "ones\n",
    "# creates matrix with each element 1 of int16 type"
   ]
  },
  {
   "cell_type": "code",
   "execution_count": 15,
   "metadata": {},
   "outputs": [
    {
     "data": {
      "text/plain": [
       "array([[1., 1., 1., 1.],\n",
       "       [1., 1., 1., 1.],\n",
       "       [1., 1., 1., 1.],\n",
       "       [1., 1., 1., 1.]], dtype=float32)"
      ]
     },
     "execution_count": 15,
     "metadata": {},
     "output_type": "execute_result"
    }
   ],
   "source": [
    "ones=np.ones([4,4],dtype='float32')\n",
    "ones\n",
    "\n",
    "# creates matrix with each element 1 of float32 type"
   ]
  },
  {
   "cell_type": "markdown",
   "metadata": {},
   "source": [
    "# Numpy[3]\n"
   ]
  },
  {
   "cell_type": "markdown",
   "metadata": {},
   "source": [
    "# numpy.hstack() and numpy.vsatck() in python"
   ]
  },
  {
   "cell_type": "code",
   "execution_count": 28,
   "metadata": {},
   "outputs": [
    {
     "name": "stdout",
     "output_type": "stream",
     "text": [
      "[INFO]Horizontal Append:\n",
      "[1 2 3 4 5 6]\n"
     ]
    }
   ],
   "source": [
    "import numpy as np\n",
    "f=np.array([1,2,3])\n",
    "g=np.array([4,5,6])\n",
    "print('[INFO]Horizontal Append:\\n{}'.format(np.hstack((f,g))))"
   ]
  },
  {
   "cell_type": "code",
   "execution_count": 31,
   "metadata": {},
   "outputs": [
    {
     "name": "stdout",
     "output_type": "stream",
     "text": [
      "[INFO]Vertical Append:\n",
      "[[1 2 3]\n",
      " [4 5 6]\n",
      " [4 5 6]]\n"
     ]
    },
    {
     "data": {
      "text/plain": [
       "(3, 3)"
      ]
     },
     "execution_count": 31,
     "metadata": {},
     "output_type": "execute_result"
    }
   ],
   "source": [
    "f=np.array([1,2,3])\n",
    "g=np.array([4,5,6])\n",
    "h=np.array([4,5,6])\n",
    "v=np.vstack((f,g,h))\n",
    "print('[INFO]Vertical Append:\\n{}'.format(v))\n",
    "v.shape"
   ]
  },
  {
   "cell_type": "markdown",
   "metadata": {},
   "source": [
    "# Generate Random Numbers\n",
    "* numpy.random.normal(loc,scale,size)\n",
    "* loc=the mean\n",
    "* scale=standard deviation\n",
    "* size=no of terms"
   ]
  },
  {
   "cell_type": "code",
   "execution_count": 40,
   "metadata": {},
   "outputs": [
    {
     "name": "stdout",
     "output_type": "stream",
     "text": [
      "[15.0168489  15.2366022  15.12885654 14.33903406 14.66383101 14.82159792\n",
      " 14.841162   14.77795498 15.6380003  14.79376601]\n"
     ]
    }
   ],
   "source": [
    "# genrate random no from normal distribution\n",
    "normal_array=np.random.normal(15,0.5,10)\n",
    "print(normal_array)"
   ]
  },
  {
   "cell_type": "markdown",
   "metadata": {},
   "source": [
    "# Asarray\n",
    "* asarray() is used to convert an input like list,tuple into an array\n",
    "* numpy.asarray(data,dtype=none,order=none)[source]\n"
   ]
  },
  {
   "cell_type": "code",
   "execution_count": 63,
   "metadata": {},
   "outputs": [
    {
     "data": {
      "text/plain": [
       "matrix([[11., 11., 11., 11.],\n",
       "        [11., 11., 11., 11.],\n",
       "        [11., 11., 11., 11.],\n",
       "        [11., 11., 11., 11.]])"
      ]
     },
     "execution_count": 63,
     "metadata": {},
     "output_type": "execute_result"
    }
   ],
   "source": [
    "A=np.matrix(np.ones((4,4))+10)\n",
    "A"
   ]
  },
  {
   "cell_type": "code",
   "execution_count": 65,
   "metadata": {},
   "outputs": [
    {
     "data": {
      "text/plain": [
       "matrix([[11., 11., 11., 11.],\n",
       "        [11., 11., 11., 11.],\n",
       "        [ 3.,  3.,  3.,  3.],\n",
       "        [11., 11., 11., 11.]])"
      ]
     },
     "execution_count": 65,
     "metadata": {},
     "output_type": "execute_result"
    }
   ],
   "source": [
    "np.array(A)[2]=5\n",
    "A\n",
    "# as an array matrix element cant be change\n",
    "# output is same"
   ]
  },
  {
   "cell_type": "code",
   "execution_count": 77,
   "metadata": {},
   "outputs": [
    {
     "name": "stdout",
     "output_type": "stream",
     "text": [
      "[[11. 11. 11. 11.]\n",
      " [11. 11. 11. 11.]\n",
      " [ 5.  5. 33.  5.]\n",
      " [11. 11. 11. 11.]]\n"
     ]
    }
   ],
   "source": [
    "np.asarray(A)[2][2]=33\n",
    "print(A)\n",
    "# asarray converts the matrix into array and allow modification\n",
    "# output is different than previous"
   ]
  },
  {
   "cell_type": "code",
   "execution_count": 84,
   "metadata": {},
   "outputs": [
    {
     "name": "stdout",
     "output_type": "stream",
     "text": [
      "[[11. 11. 11. 11.]\n",
      " [11. 35. 11. 11.]\n",
      " [ 5.  5. 33.  5.]\n",
      " [11. 11. 11. 11.]]\n"
     ]
    }
   ],
   "source": [
    "np.asarray(A)[1][1]=35\n",
    "print(A)"
   ]
  },
  {
   "cell_type": "code",
   "execution_count": 86,
   "metadata": {},
   "outputs": [
    {
     "data": {
      "text/plain": [
       "matrix([[11., 11., 11., 11.],\n",
       "        [11., 35., 11., 11.],\n",
       "        [ 0.,  0.,  0.,  0.],\n",
       "        [11., 11., 11., 11.]])"
      ]
     },
     "execution_count": 86,
     "metadata": {},
     "output_type": "execute_result"
    }
   ],
   "source": [
    "np.asarray(A)[2]=0\n",
    "A"
   ]
  },
  {
   "cell_type": "markdown",
   "metadata": {},
   "source": [
    "# Arange\n",
    "* numpy.arange(start,stop,step)"
   ]
  },
  {
   "cell_type": "code",
   "execution_count": 89,
   "metadata": {},
   "outputs": [
    {
     "data": {
      "text/plain": [
       "array([ 2,  4,  6,  8, 10, 12, 14, 16, 18])"
      ]
     },
     "execution_count": 89,
     "metadata": {},
     "output_type": "execute_result"
    }
   ],
   "source": [
    "np.arange(2,20,2)"
   ]
  },
  {
   "cell_type": "markdown",
   "metadata": {},
   "source": [
    "# Numpy[4]"
   ]
  },
  {
   "cell_type": "markdown",
   "metadata": {},
   "source": [
    "# Indexing and slicing"
   ]
  },
  {
   "cell_type": "markdown",
   "metadata": {},
   "source": [
    "# array[row_start:row_end,col_start:col_end]"
   ]
  },
  {
   "cell_type": "code",
   "execution_count": 103,
   "metadata": {},
   "outputs": [
    {
     "name": "stdout",
     "output_type": "stream",
     "text": [
      "[[ 1  2  3  4]\n",
      " [ 4  5  6  7]\n",
      " [ 7  8  9 10]\n",
      " [10 11 12 13]]\n"
     ]
    }
   ],
   "source": [
    "e=np.array([(1,2,3,4),(4,5,6,7),(7,8,9,10),(10,11,12,13)])\n",
    "print(e)"
   ]
  },
  {
   "cell_type": "code",
   "execution_count": 104,
   "metadata": {},
   "outputs": [
    {
     "name": "stdout",
     "output_type": "stream",
     "text": [
      "[INFO]First row:[1 2 3 4]\n"
     ]
    }
   ],
   "source": [
    "print('[INFO]First row:{}'.format(e[0]))\n",
    "# index start at "
   ]
  },
  {
   "cell_type": "code",
   "execution_count": 105,
   "metadata": {},
   "outputs": [
    {
     "name": "stdout",
     "output_type": "stream",
     "text": [
      "[INFO]First column is:[ 2  5  8 11]\n"
     ]
    }
   ],
   "source": [
    "f_cols=e[:,1]#all rows but first column\n",
    "f_cols\n",
    "print('[INFO]First column is:{}'.format(f_cols))"
   ]
  },
  {
   "cell_type": "code",
   "execution_count": 110,
   "metadata": {},
   "outputs": [
    {
     "data": {
      "text/plain": [
       "array([5, 8])"
      ]
     },
     "execution_count": 110,
     "metadata": {},
     "output_type": "execute_result"
    }
   ],
   "source": [
    "# PRINT 5 AND 8\n",
    "selected=e[1:3,1]\n",
    "selected"
   ]
  },
  {
   "cell_type": "code",
   "execution_count": 111,
   "metadata": {},
   "outputs": [
    {
     "data": {
      "text/plain": [
       "array([[5, 6],\n",
       "       [8, 9]])"
      ]
     },
     "execution_count": 111,
     "metadata": {},
     "output_type": "execute_result"
    }
   ],
   "source": [
    "# PRINT 5,6,8,9\n",
    "e[1:3,1:3]"
   ]
  },
  {
   "cell_type": "code",
   "execution_count": 112,
   "metadata": {},
   "outputs": [
    {
     "data": {
      "text/plain": [
       "array([ 2,  5,  8, 11])"
      ]
     },
     "execution_count": 112,
     "metadata": {},
     "output_type": "execute_result"
    }
   ],
   "source": [
    "second_column=e[:,1]\n",
    "second_column"
   ]
  },
  {
   "cell_type": "code",
   "execution_count": 115,
   "metadata": {},
   "outputs": [
    {
     "data": {
      "text/plain": [
       "array([4, 5, 6, 7])"
      ]
     },
     "execution_count": 115,
     "metadata": {},
     "output_type": "execute_result"
    }
   ],
   "source": [
    "second_row=e[1,:]\n",
    "second_row"
   ]
  },
  {
   "cell_type": "code",
   "execution_count": 114,
   "metadata": {},
   "outputs": [
    {
     "data": {
      "text/plain": [
       "array([4, 5, 6, 7])"
      ]
     },
     "execution_count": 114,
     "metadata": {},
     "output_type": "execute_result"
    }
   ],
   "source": [
    "e[1]"
   ]
  },
  {
   "cell_type": "markdown",
   "metadata": {},
   "source": [
    "# Numpy Stastical function\n",
    "* Min=np.min()\n",
    "* Max=np.max()\n",
    "* Mean=np.mean()\n",
    "* Median=np.median()\n",
    "* Standard deviation=np.std()"
   ]
  },
  {
   "cell_type": "code",
   "execution_count": 120,
   "metadata": {},
   "outputs": [
    {
     "name": "stdout",
     "output_type": "stream",
     "text": [
      "[INFO]Min is:14.339034060047936\n",
      "[INFO]Max is:15.638000302497176\n",
      "[INFO]Median is:14.925765391221011\n",
      "[INFO]Standard Deviation is:14.831379957736779\n"
     ]
    }
   ],
   "source": [
    "### Min \n",
    "x1=(np.min(normal_array))\n",
    "\n",
    "### Max \n",
    "x2=(np.max(normal_array))\n",
    "\n",
    "### Mean \n",
    "x3=(np.mean(normal_array))\n",
    "\n",
    "### Median\n",
    "x4=(np.median(normal_array))\n",
    "\n",
    "### Sd\n",
    "x5=(np.std(normal_array))\n",
    "print('[INFO]Min is:{0}\\n[INFO]Max is:{1}\\n[INFO]Median is:{2}\\n[INFO]Standard \\\n",
    "Deviation is:{3}'.format(x1,x2,x3,x4,x5))"
   ]
  },
  {
   "cell_type": "markdown",
   "metadata": {},
   "source": [
    "# DOT PRODUCT\n",
    "* numpy.dot(x, y, out=None)\n",
    "* x,y: Input arrays. x and y both should be 1-D or 2-D for the function to work\n",
    "\n",
    "* out: This is the output argument.For 1-D array scalar is returned. Other wise ndarray"
   ]
  },
  {
   "cell_type": "code",
   "execution_count": 124,
   "metadata": {},
   "outputs": [
    {
     "data": {
      "text/plain": [
       "32"
      ]
     },
     "execution_count": 124,
     "metadata": {},
     "output_type": "execute_result"
    }
   ],
   "source": [
    "x=np.array([1,2,3])\n",
    "y=np.array([4,5,6])\n",
    "# 1*4+2*5+3*6=32\n",
    "dot_proc=np.dot(x,y)\n",
    "dot_proc\n",
    "mat_proc=np.matmul(x,y)\n",
    "mat_proc"
   ]
  },
  {
   "cell_type": "markdown",
   "metadata": {},
   "source": [
    "# Matrix Multiplication\n",
    "* numpy.matmul(x, y, out=None)"
   ]
  },
  {
   "cell_type": "code",
   "execution_count": 129,
   "metadata": {},
   "outputs": [
    {
     "name": "stdout",
     "output_type": "stream",
     "text": [
      "[INFO]Dot product is:\n",
      "[[19 22]\n",
      " [43 50]]\n",
      "[INFO]Matrix Multiplication is:\n",
      "[[19 22]\n",
      " [43 50]]\n",
      "\n"
     ]
    }
   ],
   "source": [
    "h = [[1,2],[3,4]] \n",
    "i = [[5,6],[7,8]] \n",
    "v1=np.matmul(h,i)\n",
    "v2=np.dot(h,i)\n",
    "print('[INFO]Dot product is:\\n{}\\n[INFO]Matrix Multiplication is:\\n{}\\n'.format(v1,v2))"
   ]
  },
  {
   "cell_type": "code",
   "execution_count": null,
   "metadata": {},
   "outputs": [],
   "source": []
  }
 ],
 "metadata": {
  "kernelspec": {
   "display_name": "Python 3",
   "language": "python",
   "name": "python3"
  },
  "language_info": {
   "codemirror_mode": {
    "name": "ipython",
    "version": 3
   },
   "file_extension": ".py",
   "mimetype": "text/x-python",
   "name": "python",
   "nbconvert_exporter": "python",
   "pygments_lexer": "ipython3",
   "version": "3.7.4"
  }
 },
 "nbformat": 4,
 "nbformat_minor": 2
}
